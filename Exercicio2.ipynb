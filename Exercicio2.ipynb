{
  "nbformat": 4,
  "nbformat_minor": 0,
  "metadata": {
    "colab": {
      "name": "Exercicio2.ipynb",
      "provenance": [],
      "collapsed_sections": [],
      "toc_visible": true,
      "authorship_tag": "ABX9TyN8Cj9Bknl76g5X4LYIn930",
      "include_colab_link": true
    },
    "kernelspec": {
      "name": "python3",
      "display_name": "Python 3"
    }
  },
  "cells": [
    {
      "cell_type": "markdown",
      "metadata": {
        "id": "view-in-github",
        "colab_type": "text"
      },
      "source": [
        "<a href=\"https://colab.research.google.com/github/nahumsa/PROVOC-Python/blob/master/Exercicio2.ipynb\" target=\"_parent\"><img src=\"https://colab.research.google.com/assets/colab-badge.svg\" alt=\"Open In Colab\"/></a>"
      ]
    },
    {
      "cell_type": "markdown",
      "metadata": {
        "id": "WxEIhc4bc1UI",
        "colab_type": "text"
      },
      "source": [
        "# Exercício 2: Jogo da Velha\n",
        "\n",
        "Nesse exercício vamos fazer um jogo da velha no terminal (ou jupyter notebook), mais para a frente utilizaremos esse jogo para criar uma inteligência artificial para jogar contra um jogador. \n",
        "\n",
        "Mais para a frente iremos utilizar o [pygame](https://www.pygame.org/news) para criar um interface gráfica para esse jogo."
      ]
    },
    {
      "cell_type": "markdown",
      "metadata": {
        "id": "02tzWEp8Asoc",
        "colab_type": "text"
      },
      "source": [
        "## 0) Importando dependências"
      ]
    },
    {
      "cell_type": "code",
      "metadata": {
        "id": "Fd5jeY5IAx-v",
        "colab_type": "code",
        "colab": {}
      },
      "source": [
        "! git clone https://github.com/nahumsa/PROVOC-Python.git\n",
        "% cd PROVOC-Python/"
      ],
      "execution_count": null,
      "outputs": []
    },
    {
      "cell_type": "code",
      "metadata": {
        "id": "ZGa_K50xBPL6",
        "colab_type": "code",
        "colab": {}
      },
      "source": [
        "from Grading.Grade2 import *"
      ],
      "execution_count": null,
      "outputs": []
    },
    {
      "cell_type": "markdown",
      "metadata": {
        "id": "9iWUa-u9bY32",
        "colab_type": "text"
      },
      "source": [
        "## 1) Inicializando as variáveis importantes para o projeto\n",
        "\n",
        "Como queremos criar um jogo da velha, precisamos designar qual dos jogadores começa o jogo e qual o símbolo de cada jogador. \n",
        "\n",
        "Além disso também devemos definir o grid que jogaremos o jogo, aqui escolhi como uma lista de strings com os números 1,2,...,9 para que possamos receber como input esses números do jogador e marcar no grid. Outras formas podem ser escolhidas, essa não é única, mas recomendo primeiramente seguir essa forma pois os testes do código foram feitos para esse caso."
      ]
    },
    {
      "cell_type": "code",
      "metadata": {
        "id": "7J1b5QHrbfdL",
        "colab_type": "code",
        "colab": {}
      },
      "source": [
        "turn = 0\n",
        "p1_symbol = 'X'\n",
        "p2_symbol = 'O'\n",
        "players = [p1_symbol, p2_symbol]\n",
        "board = ['1', '2', '3',\n",
        "         '4', '5', '6',\n",
        "         '7', '8', '9']"
      ],
      "execution_count": null,
      "outputs": []
    },
    {
      "cell_type": "markdown",
      "metadata": {
        "id": "Suh4Ysdtbh08",
        "colab_type": "text"
      },
      "source": [
        "## 2) Verificando se há um ganhador no jogo\n",
        "\n",
        "A primeira função importante é para verificar se há um ganhador, para isso você deve verificar se os elementos da lista são iguais, segue alguns exemplos:\n",
        "\n",
        "Exemplo 1) Nesse caso receberíamos X como output da função.\n",
        "```\n",
        "X | X | X\n",
        "--+---+--\n",
        "4 | 5 | 6\n",
        "--+---+--\n",
        "7 | 8 | 9\n",
        "```\n",
        "\n",
        "Exemplo 2) Nesse caso receberíamos O como output da função.\n",
        "```\n",
        "O | 2 | 3\n",
        "--+---+--\n",
        "4 | O | 6\n",
        "--+---+--\n",
        "7 | 8 | O\n",
        "```\n",
        "\n",
        "Exemplo 3) Nesse caso receberíamos `None` como output da função.\n",
        "```\n",
        "O | 2 | 3\n",
        "--+---+--\n",
        "4 | O | X\n",
        "--+---+--\n",
        "7 | 8 | 9\n",
        "```"
      ]
    },
    {
      "cell_type": "code",
      "metadata": {
        "id": "ThYZX_VXbl_u",
        "colab_type": "code",
        "colab": {}
      },
      "source": [
        "def winner(table, players):\n",
        "  \"\"\" Verifica se há um vencedor no jogo.\n",
        "\n",
        "  Parametros:\n",
        "    table(list): Lista com o grid.\n",
        "    players(list): Lista com os jogadores\n",
        "  \n",
        "  Output:\n",
        "    (string): Retorna o vencedor ou None, caso não\n",
        "              tenha vencedor.\n",
        "  \"\"\"\n",
        "  # Verifique para cada jogador se há as seguintes condições:\n",
        "  # 1. Vencedor na horizontal\n",
        "  # 2. Vencedor na vertical\n",
        "  # 3. Vencedor na diagonal\n",
        "  \n",
        "  return vencedor"
      ],
      "execution_count": null,
      "outputs": []
    },
    {
      "cell_type": "code",
      "metadata": {
        "id": "EHHUe9GJBZWJ",
        "colab_type": "code",
        "colab": {}
      },
      "source": [
        "test_winner(winner, players)"
      ],
      "execution_count": null,
      "outputs": []
    },
    {
      "cell_type": "markdown",
      "metadata": {
        "id": "gLuA0QYUbqnv",
        "colab_type": "text"
      },
      "source": [
        "## 3) Demonstrando o jogo\n",
        "\n",
        "Precisamos encontrar algum jeito legal de demonstrar o jogo, pode usar sua criatividade."
      ]
    },
    {
      "cell_type": "code",
      "metadata": {
        "id": "DoXjd-Lxc5VY",
        "colab_type": "code",
        "colab": {}
      },
      "source": [
        "def show(board):\n",
        "  \"\"\" Mostra o grid com o jogo.\n",
        "\n",
        "  Parametros:\n",
        "    board(list): Lista com o grid do jogo.\n",
        "  \"\"\"  \n",
        "\n",
        "show(board)"
      ],
      "execution_count": null,
      "outputs": []
    },
    {
      "cell_type": "markdown",
      "metadata": {
        "id": "8EVosEJQcBK7",
        "colab_type": "text"
      },
      "source": [
        "## 4) Definindo a jogada\n",
        "\n",
        "Precisamos definir como o jogador interage com o grid, para isso você deve sobre-escrever o grid com o símbolo do jogador. Lembre que as vezes o jogador pode enviar um movimento que não é válido! Por exemplo, se o outro jogador (ou ele mesmo) já colocou o símbolo naquela posição. \n",
        "\n",
        "O output da função será uma [tupla](https://www.w3schools.com/python/python_tuples.asp) com 3 valores: \n",
        "- Verdadeiro(Falso) para caso o movimento seja válido(não válido); \n",
        "- O grid (que é uma lista) no qual o player escreveu o seu movimento; \n",
        "- O turno em qual estamos, que será representado por um int entre 0 (player 1) e 1 (player 2)."
      ]
    },
    {
      "cell_type": "code",
      "metadata": {
        "id": "xFwqJQTk-uw0",
        "colab_type": "code",
        "colab": {}
      },
      "source": [
        "def move(pos, turn, board, players):\n",
        "  \"\"\" Faz o movimento do jogador escrevendo no grid.\n",
        "\n",
        "  Parametros:\n",
        "    pos(int): posição para escrever no grid.\n",
        "    turn(int): Indica o jogador que pode jogar, 0 ou 1.\n",
        "    board(list): Lista com o grid.\n",
        "  \n",
        "  Outputs:\n",
        "    (Bool): Verdadeiro (falso) caso o movimento seja válido\n",
        "            (não válido).\n",
        "    (list): grid do jogo.\n",
        "    (int): Turno representando o jogador, 0 ou 1.\n",
        "\n",
        "  \"\"\"\n",
        "  # Verifique se o movimento é válido\n",
        "  \n",
        "  # Verifique se já há algo escrito no grid\n",
        "\n",
        "  # Escreva no grid e mude o turno  \n",
        "  return True, board, turn"
      ],
      "execution_count": null,
      "outputs": []
    },
    {
      "cell_type": "code",
      "metadata": {
        "id": "bOgjU4FoAIki",
        "colab_type": "code",
        "colab": {}
      },
      "source": [
        "test_move(move, players)"
      ],
      "execution_count": null,
      "outputs": []
    },
    {
      "cell_type": "markdown",
      "metadata": {
        "id": "E3mCfjLAcFXx",
        "colab_type": "text"
      },
      "source": [
        "## Teste o seu jogo!"
      ]
    },
    {
      "cell_type": "code",
      "metadata": {
        "id": "Ez2yxOnBCLEn",
        "colab_type": "code",
        "colab": {}
      },
      "source": [
        "def reset_board():\n",
        "  \"\"\" Função para resetar o estado do board.\n",
        "  \"\"\"\n",
        "  return ['1', '2', '3',\n",
        "         '4', '5', '6',\n",
        "         '7', '8', '9']    "
      ],
      "execution_count": null,
      "outputs": []
    },
    {
      "cell_type": "code",
      "metadata": {
        "id": "1WgojKWrcLHL",
        "colab_type": "code",
        "colab": {}
      },
      "source": [
        "from IPython.display import clear_output\n",
        "import numpy as np\n",
        "\n",
        "win = False\n",
        "board = reset_board()\n",
        "\n",
        "while not win:\n",
        "    #limpamos o output do jupyter notebook\n",
        "    clear_output()\n",
        "    \n",
        "    #Demonstre o grid na tela\n",
        "    <- codigo ->\n",
        "    \n",
        "    # Escrevemos qual player vai jogar\n",
        "    print(f\"Player {turn+1}: \")        \n",
        "    \n",
        "    # Selecionamos o movimento e verificamos se é válido\n",
        "    try:\n",
        "      movement = int(input())    \n",
        "      valid, board, turn = # faça o movimento do jogador que você escreveu anteriormente\n",
        "      \n",
        "    \n",
        "    except:\n",
        "      print('movimento não é válido.')\n",
        "      movement = int(input())    \n",
        "      valid, board, turn = # faça o movimento do jogador que você escreveu anteriormente\n",
        "    \n",
        "    # Verificamos se há um vencedor, caso tenha um vencedor\n",
        "    # Saimos do while e demonstramos qual é o jogador    \n",
        "    p_win = #verifique se há um jogador\n",
        "    \n",
        "    if p_win == p1_symbol:\n",
        "        clear_output()\n",
        "        print(\"Player 1 Wins!\")\n",
        "        show(board)\n",
        "        win = True\n",
        "\n",
        "    elif p_win == p2_symbol:\n",
        "        clear_output()\n",
        "        print(\"Player 2 Wins!\")\n",
        "        show(board)\n",
        "        win = True\n",
        "    \n",
        "    # Verificar se há um empate e não há mais nenhum movimento possível\n",
        "    elif len(np.unique(board)) == 2:\n",
        "      clear_output()\n",
        "      print(\"Draw!\")\n",
        "      show(board)\n",
        "      win = True    "
      ],
      "execution_count": null,
      "outputs": []
    }
  ]
}