{
  "nbformat": 4,
  "nbformat_minor": 0,
  "metadata": {
    "colab": {
      "name": "Exercicios1.ipynb",
      "provenance": [],
      "collapsed_sections": [
        "S8kF9gpDZgiX"
      ],
      "authorship_tag": "ABX9TyPhlqVFW22Ecl48Lttq1I+P",
      "include_colab_link": true
    },
    "kernelspec": {
      "name": "python3",
      "display_name": "Python 3"
    }
  },
  "cells": [
    {
      "cell_type": "markdown",
      "metadata": {
        "id": "view-in-github",
        "colab_type": "text"
      },
      "source": [
        "<a href=\"https://colab.research.google.com/github/nahumsa/PROVOC-Python/blob/master/Exercicios1.ipynb\" target=\"_parent\"><img src=\"https://colab.research.google.com/assets/colab-badge.svg\" alt=\"Open In Colab\"/></a>"
      ]
    },
    {
      "cell_type": "markdown",
      "metadata": {
        "id": "YH75Vf8dspwd",
        "colab_type": "text"
      },
      "source": [
        "# Exercícios para Python: Calculadora\n",
        "\n",
        "A intenção desse exercício é utilizar a linguagem Python para construir uma calculadora que faça soma, subtração, multiplicação e divisão."
      ]
    },
    {
      "cell_type": "markdown",
      "metadata": {
        "id": "S8kF9gpDZgiX",
        "colab_type": "text"
      },
      "source": [
        "## Importando dependencias"
      ]
    },
    {
      "cell_type": "code",
      "metadata": {
        "id": "WF_Gt6gaZUql",
        "colab_type": "code",
        "colab": {}
      },
      "source": [
        "! git clone https://github.com/nahumsa/PROVOC-Python.git"
      ],
      "execution_count": null,
      "outputs": []
    },
    {
      "cell_type": "code",
      "metadata": {
        "id": "NesQyT68ZbT_",
        "colab_type": "code",
        "colab": {}
      },
      "source": [
        "% cd PROVOC-Python/"
      ],
      "execution_count": null,
      "outputs": []
    },
    {
      "cell_type": "markdown",
      "metadata": {
        "id": "2YmOWdhTtWFY",
        "colab_type": "text"
      },
      "source": [
        "# Questão 1: Receba dois inputs do usuário"
      ]
    },
    {
      "cell_type": "code",
      "metadata": {
        "id": "zYRdzWy93jyh",
        "colab_type": "code",
        "colab": {}
      },
      "source": [
        "from IPython.display import display, Markdown\n",
        "from Grading.Grade1 import *\n",
        "%load_ext autoreload\n",
        "%autoreload 2"
      ],
      "execution_count": 4,
      "outputs": []
    },
    {
      "cell_type": "code",
      "metadata": {
        "id": "s4RfAFAglu_H",
        "colab_type": "code",
        "colab": {}
      },
      "source": [
        "def recebendo_inputs():\n",
        "  # Escreva abaixo uma forma de receber os inputs\n",
        "  # após o =, não esqueça de escrever algo para mostrar na \n",
        "  # tela que você está recebendo os inputs. \n",
        "  # Além disso lembre de converter para número, qual é \n",
        "  # o tipo de variável que é considerada número?\n",
        "  x = # Receba o valor de x\n",
        "  y = # Receba o valor de y\n",
        "  x = #Transforme em numero\n",
        "  y = #Transforme em numero\n",
        "  return x,y"
      ],
      "execution_count": 7,
      "outputs": []
    },
    {
      "cell_type": "code",
      "metadata": {
        "id": "Zaxt4gUdnRNj",
        "colab_type": "code",
        "colab": {}
      },
      "source": [
        "Markdown(grade1(recebendo_inputs))"
      ],
      "execution_count": null,
      "outputs": []
    },
    {
      "cell_type": "markdown",
      "metadata": {
        "id": "Wch0md1ZmJHP",
        "colab_type": "text"
      },
      "source": [
        "# Questão 2: Efetue a soma desses dois inputs"
      ]
    },
    {
      "cell_type": "code",
      "metadata": {
        "id": "83FFF-lplWiN",
        "colab_type": "code",
        "colab": {}
      },
      "source": [
        "def soma(x,y):\n",
        "  # Após o return escreva o resultado da soma de \n",
        "  # x e y.\n",
        "  return "
      ],
      "execution_count": null,
      "outputs": []
    },
    {
      "cell_type": "code",
      "metadata": {
        "id": "0G3qiuG5_aWY",
        "colab_type": "code",
        "colab": {}
      },
      "source": [
        "Markdown(grade2(soma))"
      ],
      "execution_count": null,
      "outputs": []
    },
    {
      "cell_type": "markdown",
      "metadata": {
        "id": "ggmvqdFf_eGL",
        "colab_type": "text"
      },
      "source": [
        "# Questão 3: Efetue a subtração desses dois inputs"
      ]
    },
    {
      "cell_type": "code",
      "metadata": {
        "id": "64Uk2PutmhJZ",
        "colab_type": "code",
        "colab": {}
      },
      "source": [
        "def subtracao(x,y):\n",
        "  # apos o return escreva o resultado\n",
        "  # da subtração entre x e y\n",
        "  return "
      ],
      "execution_count": null,
      "outputs": []
    },
    {
      "cell_type": "code",
      "metadata": {
        "id": "T5gCwzBVOruX",
        "colab_type": "code",
        "colab": {}
      },
      "source": [
        "grade3(subtracao)"
      ],
      "execution_count": null,
      "outputs": []
    },
    {
      "cell_type": "markdown",
      "metadata": {
        "id": "W2_qqr6qFn8E",
        "colab_type": "text"
      },
      "source": [
        " # Questão 4: Efetue a divisão desses dois inputs"
      ]
    },
    {
      "cell_type": "code",
      "metadata": {
        "id": "JYabkJYlFmmf",
        "colab_type": "code",
        "colab": {}
      },
      "source": [
        " def divisao(x,y):\n",
        "  # apos o return escreva o resultado\n",
        "  # da divisão entre x e y.\n",
        "  # Lembre que não podemos dividir por 0.  \n",
        "  \n",
        "  if (\"COLOQUE A CONDIÇÂO AQUI\"):\n",
        "    print(\"Não podemos dividir por zero.\")\n",
        "    return None\n",
        "  \n",
        "  return "
      ],
      "execution_count": null,
      "outputs": []
    },
    {
      "cell_type": "code",
      "metadata": {
        "id": "vZWG0ui7StI9",
        "colab_type": "code",
        "colab": {}
      },
      "source": [
        " def divisao(x,y):\n",
        "  # apos o return escreva o resultado\n",
        "  # da divisão entre x e y.\n",
        "  # Lembre que não podemos dividir por 0.  \n",
        "  \n",
        "  if (y==0):\n",
        "    print(\"Não podemos dividir por zero.\")\n",
        "    return None\n",
        "  \n",
        "  return x/y"
      ],
      "execution_count": null,
      "outputs": []
    },
    {
      "cell_type": "code",
      "metadata": {
        "id": "qvywshBdQs42",
        "colab_type": "code",
        "colab": {}
      },
      "source": [
        "grade4(divisao)"
      ],
      "execution_count": null,
      "outputs": []
    },
    {
      "cell_type": "markdown",
      "metadata": {
        "id": "vRbV6OKfGwyH",
        "colab_type": "text"
      },
      "source": [
        "# Questão 5: Efetue a multiplicação desses dois inputs"
      ]
    },
    {
      "cell_type": "code",
      "metadata": {
        "id": "bp2QfKXYG5cd",
        "colab_type": "code",
        "colab": {}
      },
      "source": [
        " def multiplicacao(x,y):\n",
        "  # apos o return escreva o resultado\n",
        "  # da multiplicação entre x e y\n",
        "  return "
      ],
      "execution_count": null,
      "outputs": []
    },
    {
      "cell_type": "code",
      "metadata": {
        "id": "HewabQlxTPp_",
        "colab_type": "code",
        "colab": {}
      },
      "source": [
        "grade5(multiplicacao)"
      ],
      "execution_count": null,
      "outputs": []
    },
    {
      "cell_type": "markdown",
      "metadata": {
        "id": "JN_709zOHPPE",
        "colab_type": "text"
      },
      "source": [
        " # Construindo uma calculadora"
      ]
    },
    {
      "cell_type": "code",
      "metadata": {
        "id": "drGx0TFBTX9B",
        "colab_type": "code",
        "colab": {}
      },
      "source": [
        "def Calculadora():\n",
        "\n",
        "  # Receba a operação do usuário:\n",
        "  # '+' para soma\n",
        "  # '-' para subtração\n",
        "  # '*' para multiplicação\n",
        "  # '/' para divisão\n",
        "  operacao = '_____'\n",
        "  \n",
        "  # Receba os inputs dos numeros do usuário\n",
        "  x, y = '_____'\n",
        "  \n",
        "  if operacao == '+':\n",
        "    print(f\"Resultado: {soma(x,y)}\")\n",
        "  elif operacao == '-':\n",
        "    print(f\"Resultado: {subtracao(x,y)}\")\n",
        "  elif operacao == '*':\n",
        "    print(f\"Resultado: {multiplicacao(x,y)}\")  \n",
        "  elif operacao == '/':\n",
        "    print(f\"Resultado: {divisao(x,y)}\")  \n",
        "  else:\n",
        "    print(\"Erro:Operação Não conhecida.\")\n",
        "    "
      ],
      "execution_count": null,
      "outputs": []
    },
    {
      "cell_type": "markdown",
      "metadata": {
        "id": "Bmofk0kUUpT7",
        "colab_type": "text"
      },
      "source": [
        "### Teste sua calculadora!"
      ]
    },
    {
      "cell_type": "code",
      "metadata": {
        "id": "QJJNtMN9UrBl",
        "colab_type": "code",
        "colab": {}
      },
      "source": [
        "Calculadora()"
      ],
      "execution_count": null,
      "outputs": []
    }
  ]
}