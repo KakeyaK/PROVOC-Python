{
  "nbformat": 4,
  "nbformat_minor": 0,
  "metadata": {
    "colab": {
      "name": "Dynamic Programming - Exercises.ipynb",
      "provenance": [],
      "collapsed_sections": [],
      "authorship_tag": "ABX9TyNmB3QrKj+vmHV8WhdK2JgW",
      "include_colab_link": true
    },
    "kernelspec": {
      "name": "python3",
      "display_name": "Python 3"
    },
    "language_info": {
      "name": "python"
    }
  },
  "cells": [
    {
      "cell_type": "markdown",
      "metadata": {
        "id": "view-in-github",
        "colab_type": "text"
      },
      "source": [
        "<a href=\"https://colab.research.google.com/github/nahumsa/PROVOC-Python/blob/dynamic-programming/Dynamic%20Programming-Exercises.ipynb\" target=\"_parent\"><img src=\"https://colab.research.google.com/assets/colab-badge.svg\" alt=\"Open In Colab\"/></a>"
      ]
    },
    {
      "cell_type": "markdown",
      "metadata": {
        "id": "I8sssqf2OveD"
      },
      "source": [
        "# Dynamic Programming\n",
        "\n",
        "Dynamic programming is both a mathematical optimization method and a computer programming method. The method was developed by Richard Bellman in the 1950s and has found applications in numerous fields, from aerospace engineering to economics.\n",
        "\n",
        "In both contexts it refers to simplifying a complicated problem by breaking it down into simpler sub-problems in a recursive manner. While some decision problems cannot be taken apart this way, decisions that span several points in time do often break apart recursively. Likewise, in computer science, if a problem can be solved optimally by breaking it into sub-problems and then recursively finding the optimal solutions to the sub-problems, then it is said to have optimal substructure. [1]\n",
        "\n",
        "- [1] - [Wikipedia](https://en.wikipedia.org/wiki/Dynamic_programming)"
      ]
    },
    {
      "cell_type": "markdown",
      "metadata": {
        "id": "2cr3atJIPEkA"
      },
      "source": [
        "## 1) Fibonacci Problem\n",
        "\n",
        "**Problem statement**: Write a function “fib(n)” that takes a number as an argument. The function should return the n-th number of the fibonacci sequence.\n",
        "\n",
        "**Fibonacci Sequence**: The 1st and 2nd number of the sequence is 1. To generate the next number of the sequence, we sum the previous two numbers.\n",
        "\n",
        "Example: \n",
        "    n :      1, 2, 3, 4, 5, 6, 7, ... \\\\\n",
        "    fib(n): 1, 1, 2, 3, 5, 8, 13, ..."
      ]
    },
    {
      "cell_type": "markdown",
      "metadata": {
        "id": "DEp3vFISPcI2"
      },
      "source": [
        "### 1.1) Solving using Memoization"
      ]
    },
    {
      "cell_type": "code",
      "metadata": {
        "id": "zJqWe7hrPkVs"
      },
      "source": [
        "import numpy as np\n",
        "\n",
        "import unittest\n",
        "\n",
        "def fib_memo():\n",
        "    pass\n",
        "\n",
        "class TestFibMemo(unittest.TestCase):\n",
        "    def test_values(self):\n",
        "        expected = { 0:0, 1:1, 2:1, 3:2, 4:3,\n",
        "                     5:5, 6:8, 50:12586269025,\n",
        "                     60: 1548008755920\n",
        "                   }\n",
        "        for key, exp_val in expected.items():\n",
        "          got = fib_memo(key)\n",
        "          self.assertEqual(exp_val, got)\n",
        "\n",
        "if __name__ == '__main__':\n",
        "    unittest.main(argv=['first-arg-is-ignored'], exit=False)"
      ],
      "execution_count": null,
      "outputs": []
    },
    {
      "cell_type": "markdown",
      "metadata": {
        "id": "tVTRJoum1lwm"
      },
      "source": [
        "### 1.2) Solving using tabulation"
      ]
    },
    {
      "cell_type": "code",
      "metadata": {
        "id": "3C9gaIEo1swT"
      },
      "source": [
        "import numpy as np\n",
        "\n",
        "import unittest\n",
        "\n",
        "def fib_tab():\n",
        "    pass\n",
        "\n",
        "class TestFibTab(unittest.TestCase):\n",
        "    def test_values(self):\n",
        "        expected = { 0:0, 1:1, 2:1, 3:2, 4:3,\n",
        "                     5:5, 6:8, 50:12586269025,\n",
        "                     60: 1548008755920\n",
        "                   }\n",
        "        for key, exp_val in expected.items():\n",
        "          got = fib_tab(key)\n",
        "          self.assertEqual(exp_val, got)\n",
        "\n",
        "if __name__ == '__main__':\n",
        "    unittest.main(argv=['first-arg-is-ignored'], exit=False)"
      ],
      "execution_count": null,
      "outputs": []
    },
    {
      "cell_type": "markdown",
      "metadata": {
        "id": "hlEIe6oEPuKr"
      },
      "source": [
        "## 2) GridTraveler Problem\n",
        "\n",
        "**Problem Statement**: say that you're a traveler on a 2D grid. You begin on the top-left corner and your goal is to travel to the bottom-right corner. You may only move down or right. How many ways can you travel to the goal on a grid with dimensions $m \\times n$? Write a function $grid\\_traveler(m, n)$ that calculates this.\n",
        "\n"
      ]
    },
    {
      "cell_type": "markdown",
      "metadata": {
        "id": "twCzTn0DP_ZI"
      },
      "source": [
        "### 2.1) Solving using Memoization"
      ]
    },
    {
      "cell_type": "code",
      "metadata": {
        "id": "IWw5ow1zP_ZJ"
      },
      "source": [
        "import unittest\n",
        "\n",
        "def grid_traveler_memo():\n",
        "    pass\n",
        "\n",
        "class TestGridTravelerMemo(unittest.TestCase):\n",
        "    def test_values(self):\n",
        "        expected = { (1, 0): 0,\n",
        "                     (0, 50): 0,\n",
        "                     (1, 1): 1,\n",
        "                     (2, 3): 3,\n",
        "                     (3, 2): 3,\n",
        "                     (3, 3): 6,\n",
        "                     (18, 18): 2333606220,\n",
        "                   }\n",
        "        for key, exp_val in expected.items():\n",
        "          got = grid_traveler_memo(*key)\n",
        "          self.assertEqual(exp_val, got)\n",
        "\n",
        "if __name__ == '__main__':\n",
        "    unittest.main(argv=['first-arg-is-ignored'], exit=False)"
      ],
      "execution_count": null,
      "outputs": []
    },
    {
      "cell_type": "markdown",
      "metadata": {
        "id": "okfKo1zy4JTc"
      },
      "source": [
        "### 2.2) Solving using tabulation"
      ]
    },
    {
      "cell_type": "code",
      "metadata": {
        "id": "YoxBkwSV2Xuc"
      },
      "source": [
        "import unittest\n",
        "\n",
        "def grid_traveler_tab():\n",
        "    pass\n",
        "\n",
        "class TestGridTravelerTab(unittest.TestCase):\n",
        "    def test_values(self):\n",
        "        expected = { (1, 0): 0,\n",
        "                     (0, 50): 0,\n",
        "                     (1, 1): 1,\n",
        "                     (2, 3): 3,\n",
        "                     (3, 2): 3,\n",
        "                     (3, 3): 6,\n",
        "                     (18, 18): 2333606220,\n",
        "                   }\n",
        "        for key, exp_val in expected.items():\n",
        "          got = grid_traveler_tab(*key)\n",
        "          self.assertEqual(exp_val, got)\n",
        "\n",
        "if __name__ == '__main__':\n",
        "    unittest.main(argv=['first-arg-is-ignored'], exit=False)"
      ],
      "execution_count": null,
      "outputs": []
    },
    {
      "cell_type": "code",
      "metadata": {
        "id": "_50lGTbh44sH"
      },
      "source": [
        ""
      ],
      "execution_count": null,
      "outputs": []
    }
  ]
}